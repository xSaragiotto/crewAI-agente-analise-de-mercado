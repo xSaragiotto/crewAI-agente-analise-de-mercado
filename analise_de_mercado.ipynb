{
 "cells": [
  {
   "cell_type": "code",
   "execution_count": null,
   "id": "668c45bc",
   "metadata": {},
   "outputs": [],
   "source": [
    "from dotenv import load_dotenv, find_dotenv\n",
    "load_dotenv(find_dotenv())"
   ]
  },
  {
   "cell_type": "code",
   "execution_count": null,
   "id": "d205b95e",
   "metadata": {},
   "outputs": [],
   "source": [
    "from crewai import Agent, Task, Crew"
   ]
  },
  {
   "cell_type": "markdown",
   "id": "0e7a31c0",
   "metadata": {},
   "source": [
    "### Agentes\n",
    "- Pesquisador de Mercado\n",
    "- Analista de tendencias\n",
    "- Redator de Relatório"
   ]
  },
  {
   "cell_type": "code",
   "execution_count": null,
   "id": "b3646d0c",
   "metadata": {},
   "outputs": [],
   "source": [
    "pesquisador = Agent(\n",
    "    role=\"pesquisador de mercado\",\n",
    "    goal=\"Coletar e organizar informações relevantes sobre {sector}\",\n",
    "    backstory=\"\"\"\n",
    "    Você é um pesquisador experiênte que analisa tendências de mercado e coleta dados relevantes\n",
    "    sobre o {sector}. Seu trabalho é garantir que todas as informações estejam atualizadas e documentadas.\n",
    "    \"\"\",\n",
    "    allow_delegation=False,\n",
    "    verbose=True # Acompanhar a execução\n",
    ")"
   ]
  },
  {
   "cell_type": "code",
   "execution_count": null,
   "id": "b02934c5",
   "metadata": {},
   "outputs": [],
   "source": [
    "analista = Agent(\n",
    "    role=\"Analista de Tendências\",\n",
    "    goal=\"Analisar os dados do setor {sector} e identificar padrôes e oportunidades\",\n",
    "    backstory=\"\"\"\n",
    "    Você é um analista de mercado que examina os dados coletador para identificar tendencias emergentes, oportunidades e\n",
    "    ameaças no setor {sector}\n",
    "    \"\"\",\n",
    "    allow_delegation=False,\n",
    "    verbose=True # Acompanhar a execução do agente\n",
    ")"
   ]
  },
  {
   "cell_type": "code",
   "execution_count": null,
   "id": "04950dca",
   "metadata": {},
   "outputs": [],
   "source": [
    "redator = Agent(\n",
    "    role=\"Redator de relatórios\",\n",
    "    goal=\"Elaborar relatório consolidado sobre a análise de mercado do setor {sector}.\",\n",
    "    backstory=\"\"\"\n",
    "    Você é um redator profissional que transforma analises de mercado em um relatório estruturado e compreensível \n",
    "    para tomadores de decisão.\n",
    "    \"\"\",\n",
    "    allow_delegation=False,\n",
    "    verbose=True # Acompanha a execução do agente\n",
    ")"
   ]
  },
  {
   "cell_type": "markdown",
   "id": "b8ba06b3",
   "metadata": {},
   "source": [
    "### Criação das Tasks"
   ]
  },
  {
   "cell_type": "code",
   "execution_count": null,
   "id": "dacb6188",
   "metadata": {},
   "outputs": [],
   "source": [
    "coleta_dados = Task(\n",
    "    description=(\n",
    "        \"1. Coletar e analisar informações atualizadas sobre {sector}\"\n",
    "        \"2. Identificar os principais players, tendencias e estatisticas do setor.\"\n",
    "        \"3. Organizar os dados de forma clara para análise.\"\n",
    "    ),\n",
    "    expected_output=\"Um documento estruturado contendo dados de mercado sobre {sector}\",\n",
    "    agent=pesquisador\n",
    ")"
   ]
  },
  {
   "cell_type": "code",
   "execution_count": null,
   "id": "0427baaf",
   "metadata": {},
   "outputs": [],
   "source": [
    "analise_tendencias = Task(\n",
    "    description=(\n",
    "        \"1. Examinar os dados coletados pelo pesquisador de Mercado.\"\n",
    "        \"2. Identificar padrões, tendencias emergentes e oportunidades no setor {sector}.\"\n",
    "        \"3. Elaborar uma análise detalhada destacando os principais pontos.\"\n",
    "    ),\n",
    "    expected_output=\"Um relatório com insights e tendências baseados nos dados do setor {sector}\",\n",
    "    agent=analista\n",
    ")"
   ]
  },
  {
   "cell_type": "code",
   "execution_count": null,
   "id": "d3430a46",
   "metadata": {},
   "outputs": [],
   "source": [
    "redacao_relatorio = Task(\n",
    "    description=(\n",
    "        \"1. usar analises de tendencias para criar um relatorio detalhado sobre o setor {sector}\"\n",
    "        \"2. Garantir que o relatorio seja em estruturado e compreensivel.\"\n",
    "        \"3. Apresentar um resumo executivo e recomendações finais.\"\n",
    "    ),\n",
    "    expected_output=\"Um relatório de análise de mercado em formato markdown, pronto para leitura e apresentação.\",\n",
    "    agent=redator\n",
    ")"
   ]
  },
  {
   "cell_type": "code",
   "execution_count": null,
   "id": "9ea50a9f-3440-44fe-95f8-6ec42da4a791",
   "metadata": {},
   "outputs": [],
   "source": [
    "crew = Crew(\n",
    "    agents = [pesquisador, analista, redator],\n",
    "    tasks = [coleta_dados, analise_tendencias, redacao_relatorio],\n",
    "    verbose = True\n",
    ")"
   ]
  },
  {
   "cell_type": "code",
   "execution_count": null,
   "id": "b674258d-56ea-43f8-ae47-a6a2097600e4",
   "metadata": {},
   "outputs": [],
   "source": [
    "crew"
   ]
  },
  {
   "cell_type": "code",
   "execution_count": null,
   "id": "41ea51c4-5126-407d-b8a7-302d2305e8d5",
   "metadata": {},
   "outputs": [],
   "source": [
    "resltado = crew.kickoff(inputs={\"sector\": \"Inteligência Artificial\"}) # Chave para busca"
   ]
  },
  {
   "cell_type": "code",
   "execution_count": null,
   "id": "ff9e3d03-6f32-4f57-9e31-92cbebc27324",
   "metadata": {},
   "outputs": [],
   "source": [
    "print(resultado)"
   ]
  }
 ],
 "metadata": {
  "kernelspec": {
   "display_name": "Python 3 (ipykernel)",
   "language": "python",
   "name": "python3"
  },
  "language_info": {
   "codemirror_mode": {
    "name": "ipython",
    "version": 3
   },
   "file_extension": ".py",
   "mimetype": "text/x-python",
   "name": "python",
   "nbconvert_exporter": "python",
   "pygments_lexer": "ipython3",
   "version": "3.11.9"
  }
 },
 "nbformat": 4,
 "nbformat_minor": 5
}
